{
 "cells": [
  {
   "cell_type": "code",
   "execution_count": 1,
   "id": "a34e9582",
   "metadata": {},
   "outputs": [],
   "source": [
    "# TinyBERT"
   ]
  },
  {
   "cell_type": "markdown",
   "id": "750dd354",
   "metadata": {},
   "source": [
    "#### 이것도 DistileBERT와 마찬가지로 지식증류 모델중 하나이다."
   ]
  },
  {
   "cell_type": "code",
   "execution_count": null,
   "id": "3a20a938",
   "metadata": {},
   "outputs": [],
   "source": []
  }
 ],
 "metadata": {
  "kernelspec": {
   "display_name": "tensorflow2_py38",
   "language": "python",
   "name": "tensorflow2_py38"
  },
  "language_info": {
   "codemirror_mode": {
    "name": "ipython",
    "version": 3
   },
   "file_extension": ".py",
   "mimetype": "text/x-python",
   "name": "python",
   "nbconvert_exporter": "python",
   "pygments_lexer": "ipython3",
   "version": "3.8.12"
  }
 },
 "nbformat": 4,
 "nbformat_minor": 5
}
