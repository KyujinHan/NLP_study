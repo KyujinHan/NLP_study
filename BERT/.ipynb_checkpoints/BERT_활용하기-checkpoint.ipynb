{
 "cells": [
  {
   "cell_type": "code",
   "execution_count": 1,
   "id": "6ace20e4",
   "metadata": {},
   "outputs": [],
   "source": [
    "# https://github.com/google-research/bert"
   ]
  },
  {
   "cell_type": "code",
   "execution_count": 2,
   "id": "c3538751",
   "metadata": {},
   "outputs": [],
   "source": [
    "# Speical token\n",
    "# [CLS]: 문장의 시작\n",
    "# [SEP]: 문장의 끝\n",
    "# [PAD]: 문장의 여백 (문장의 길이가 다양하기 때문에 max_seq_length로 맞춰주기 위한 작업)"
   ]
  },
  {
   "cell_type": "markdown",
   "id": "a409c2e8",
   "metadata": {},
   "source": [
    "# BERT 논문을 읽고 실습하기"
   ]
  },
  {
   "cell_type": "code",
   "execution_count": 3,
   "id": "f8a71ac2",
   "metadata": {},
   "outputs": [],
   "source": [
    "''' 1. import Module '''\n",
    "from transformers import BertModel, BertTokenizer\n",
    "import torch"
   ]
  },
  {
   "cell_type": "code",
   "execution_count": 19,
   "id": "aefc1a05",
   "metadata": {},
   "outputs": [
    {
     "name": "stderr",
     "output_type": "stream",
     "text": [
      "Some weights of the model checkpoint at bert-base-uncased were not used when initializing BertModel: ['cls.predictions.transform.LayerNorm.bias', 'cls.seq_relationship.weight', 'cls.predictions.bias', 'cls.predictions.transform.dense.weight', 'cls.seq_relationship.bias', 'cls.predictions.decoder.weight', 'cls.predictions.transform.dense.bias', 'cls.predictions.transform.LayerNorm.weight']\n",
      "- This IS expected if you are initializing BertModel from the checkpoint of a model trained on another task or with another architecture (e.g. initializing a BertForSequenceClassification model from a BertForPreTraining model).\n",
      "- This IS NOT expected if you are initializing BertModel from the checkpoint of a model that you expect to be exactly identical (initializing a BertForSequenceClassification model from a BertForSequenceClassification model).\n"
     ]
    }
   ],
   "source": [
    "# 모델 불러오기\n",
    "model = BertModel.from_pretrained('bert-base-uncased') # bert-base-uncased 모델 \n",
    "tokenizer = BertTokenizer.from_pretrained('bert-base-uncased') # bert-base-uncased를 학습하는데 이용한 tokenizer 가져오기"
   ]
  },
  {
   "cell_type": "code",
   "execution_count": 6,
   "id": "32598e93",
   "metadata": {},
   "outputs": [
    {
     "name": "stdout",
     "output_type": "stream",
     "text": [
      "['i', 'love', 'paris']\n"
     ]
    }
   ],
   "source": [
    "''' 2. 전처리하기 '''\n",
    "sentence = 'I love Paris'\n",
    "tokens = tokenizer.tokenize(sentence) # token 얻기\n",
    "print(tokens)"
   ]
  },
  {
   "cell_type": "code",
   "execution_count": 7,
   "id": "c6017d55",
   "metadata": {},
   "outputs": [
    {
     "data": {
      "text/plain": [
       "['[CLS]', 'i', 'love', 'paris', '[SEP]']"
      ]
     },
     "execution_count": 7,
     "metadata": {},
     "output_type": "execute_result"
    }
   ],
   "source": [
    "tokens = ['[CLS]'] + tokens + ['[SEP]']\n",
    "tokens"
   ]
  },
  {
   "cell_type": "code",
   "execution_count": 8,
   "id": "62f0f2f1",
   "metadata": {},
   "outputs": [
    {
     "data": {
      "text/plain": [
       "['[CLS]', 'i', 'love', 'paris', '[SEP]', '[PAD]', '[PAD]']"
      ]
     },
     "execution_count": 8,
     "metadata": {},
     "output_type": "execute_result"
    }
   ],
   "source": [
    "# 만약 토큰의 최대 길이가 7이라면\n",
    "tokens = tokens + ['[PAD]'] + ['[PAD]']\n",
    "tokens"
   ]
  },
  {
   "cell_type": "code",
   "execution_count": 9,
   "id": "bab0f3cb",
   "metadata": {},
   "outputs": [
    {
     "data": {
      "text/plain": [
       "[1, 1, 1, 1, 1, 0, 0]"
      ]
     },
     "execution_count": 9,
     "metadata": {},
     "output_type": "execute_result"
    }
   ],
   "source": [
    "attention_mask = [1 if i!= '[PAD]' else 0 for i in tokens] # pad토큰은 0으로 설정 (masking 작업)\n",
    "attention_mask"
   ]
  },
  {
   "cell_type": "code",
   "execution_count": 11,
   "id": "5505f2b4",
   "metadata": {},
   "outputs": [
    {
     "data": {
      "text/plain": [
       "[101, 1045, 2293, 3000, 102, 0, 0]"
      ]
     },
     "execution_count": 11,
     "metadata": {},
     "output_type": "execute_result"
    }
   ],
   "source": [
    "token_ids = tokenizer.convert_tokens_to_ids(tokens) # 토큰이 고유한 토큰 ID에 매핑\n",
    "token_ids"
   ]
  },
  {
   "cell_type": "code",
   "execution_count": 12,
   "id": "2ec17b78",
   "metadata": {},
   "outputs": [],
   "source": [
    "token_ids = torch.tensor(token_ids).unsqueeze(0) # 1D => 2D\n",
    "attention_mask = torch.tensor(attention_mask).unsqueeze(0) # 1D => 2D"
   ]
  },
  {
   "cell_type": "code",
   "execution_count": 23,
   "id": "c1fe3cf3",
   "metadata": {},
   "outputs": [],
   "source": [
    "''' 3. 임베딩 추출하기 '''\n",
    "# return_dict=False를 안 써도 된다.\n",
    "# 그러나, 최신버전(3.x 이상)에서 이를 적용을 안할 경우, str 형태로 return값이 전해져 .shape가 작동이 안될 수도 있다.\n",
    "hidden_rep, cls_head = model(token_ids, attention_mask = attention_mask, return_dict=False) "
   ]
  },
  {
   "cell_type": "code",
   "execution_count": 24,
   "id": "ebcfdf2d",
   "metadata": {},
   "outputs": [
    {
     "name": "stdout",
     "output_type": "stream",
     "text": [
      "torch.Size([1, 7, 768])\n",
      "torch.Size([1, 768])\n"
     ]
    }
   ],
   "source": [
    "print(hidden_rep.shape) # 입력에 대한 모든 토큰의 임베딩을 표함하고 있다. \n",
    "print(cls_head.shape) # [CLS] 토큰은 문장 전체의 표현을 보유하고 있다."
   ]
  },
  {
   "cell_type": "code",
   "execution_count": 25,
   "id": "2fff4089",
   "metadata": {},
   "outputs": [
    {
     "name": "stderr",
     "output_type": "stream",
     "text": [
      "Some weights of the model checkpoint at bert-base-uncased were not used when initializing BertModel: ['cls.predictions.transform.LayerNorm.bias', 'cls.seq_relationship.weight', 'cls.predictions.bias', 'cls.predictions.transform.dense.weight', 'cls.seq_relationship.bias', 'cls.predictions.decoder.weight', 'cls.predictions.transform.dense.bias', 'cls.predictions.transform.LayerNorm.weight']\n",
      "- This IS expected if you are initializing BertModel from the checkpoint of a model trained on another task or with another architecture (e.g. initializing a BertForSequenceClassification model from a BertForPreTraining model).\n",
      "- This IS NOT expected if you are initializing BertModel from the checkpoint of a model that you expect to be exactly identical (initializing a BertForSequenceClassification model from a BertForSequenceClassification model).\n"
     ]
    }
   ],
   "source": [
    "''' 3-x. 만약 모든 encoder layer에서 임베딩 벡터를 얻고 싶다면? '''\n",
    "model = BertModel.from_pretrained('bert-base-uncased', output_hidden_states=True) # output_hidden_states가 필요함.\n",
    "tokenizer = BertTokenizer.from_pretrained('bert-base-uncased')"
   ]
  },
  {
   "cell_type": "code",
   "execution_count": 26,
   "id": "4590288e",
   "metadata": {},
   "outputs": [],
   "source": [
    "sentence = 'I love Paris'\n",
    "tokens = tokenizer.tokenize(sentence)\n",
    "tokens = ['[CLS]'] + tokens + ['[SEP]']\n",
    "tokens = tokens + ['[PAD]'] + ['[PAD]']\n",
    "attention_mask = [1 if i!= '[PAD]' else 0 for i in tokens]\n",
    "token_ids = tokenizer.convert_tokens_to_ids(tokens)\n",
    "token_ids = torch.tensor(token_ids).unsqueeze(0)\n",
    "attention_mask = torch.tensor(attention_mask).unsqueeze(0)"
   ]
  },
  {
   "cell_type": "code",
   "execution_count": 27,
   "id": "37737f80",
   "metadata": {},
   "outputs": [],
   "source": [
    "last_hidden_state, pooler_output, hidden_states = model(token_ids, attention_mask = attention_mask, return_dict=False)"
   ]
  },
  {
   "cell_type": "code",
   "execution_count": 31,
   "id": "0b3787c9",
   "metadata": {},
   "outputs": [
    {
     "name": "stdout",
     "output_type": "stream",
     "text": [
      "torch.Size([1, 7, 768])\n",
      "torch.Size([1, 768])\n",
      "13\n",
      "torch.Size([1, 7, 768])\n"
     ]
    }
   ],
   "source": [
    "print(last_hidden_state.shape)\n",
    "print(pooler_output.shape)\n",
    "print(len(hidden_states)) # 입력 임베딩 레이어 h0 ~ 인코더 레이어(N=12)를 모두 포함한다. (13개) // 자료형: tuple\n",
    "print(hidden_states[0].shape) # torch.Size([1,7,768]) // [batch_size, max_seq_length, hidden_size]"
   ]
  }
 ],
 "metadata": {
  "kernelspec": {
   "display_name": "tensorflow2_py38",
   "language": "python",
   "name": "tensorflow2_py38"
  },
  "language_info": {
   "codemirror_mode": {
    "name": "ipython",
    "version": 3
   },
   "file_extension": ".py",
   "mimetype": "text/x-python",
   "name": "python",
   "nbconvert_exporter": "python",
   "pygments_lexer": "ipython3",
   "version": "3.8.12"
  }
 },
 "nbformat": 4,
 "nbformat_minor": 5
}
