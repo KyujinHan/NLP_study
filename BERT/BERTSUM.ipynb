{
 "cells": [
  {
   "cell_type": "markdown",
   "id": "ef0bd41b",
   "metadata": {},
   "source": [
    "## BERTSUM  \n",
    "- 텍스트 요약에 초점이 맞쳐져 있다.  \n",
    "- 추출요약  \n",
    "- 생성요약  \n",
    "  \n",
    "### 추출 요약\n",
    "추출요약은 문장 내에서 중요한 문장만 뽑아서 보여준다.  \n",
    "BERT는 각 문장 앞에 모두 [cls]토큰을 붙인다.  \n",
    "BERT 끝에 간단한 이진 분류기를 붙이고 학습한다. (시그모이드 사용)  \n",
    "\n",
    "#### 근데 시그모이드 분류기가 아닌 다른 것을 붙일 수 있지 않을까?  \n",
    "1. 트랜스토머 사용.  \n",
    "- BERT에서 나온 값을 바로 이용하는 것이 아니라, 위치 임베딩과 함께 트랜스포머 인코딩에 추가하여 은닉상태의 벡터를 얻고, 시그모이드에 분류한다.  \n",
    "2. LSTM 사용  \n",
    "- 1번과 유사하게 트랜스포머 인코더 대신 LSTM을 이용하는 방법이다.  \n",
    "  \n",
    "### 생성 요약\n",
    "생성요약은 요약하는 것을 다른 언어로 바꿔서 출력하는 테스크이다.  \n",
    "- 트랜스포머의 인코더를 위에서 학습된 BERTSUM을 인코더로 활용하고 디코더는 사전학습되지 않은 초기화 상태로 학습한다.  \n",
    "- BERTSUMABS 모델이라고 부른다.  "
   ]
  },
  {
   "cell_type": "markdown",
   "id": "50238d13",
   "metadata": {},
   "source": [
    "#### ROUGE 평가지표\n",
    "텍스트 요약 태스크를 평가하는 지표이다.  "
   ]
  }
 ],
 "metadata": {
  "kernelspec": {
   "display_name": "tensorflow2_py38",
   "language": "python",
   "name": "tensorflow2_py38"
  },
  "language_info": {
   "codemirror_mode": {
    "name": "ipython",
    "version": 3
   },
   "file_extension": ".py",
   "mimetype": "text/x-python",
   "name": "python",
   "nbconvert_exporter": "python",
   "pygments_lexer": "ipython3",
   "version": "3.8.12"
  }
 },
 "nbformat": 4,
 "nbformat_minor": 5
}
