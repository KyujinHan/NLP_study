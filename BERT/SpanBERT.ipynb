{
 "cells": [
  {
   "cell_type": "code",
   "execution_count": 1,
   "id": "55c5944e",
   "metadata": {},
   "outputs": [],
   "source": [
    "# SpanBERT: 텍스트 범위를 예측하는 '질문-응답'테스크에 주로 이용된다."
   ]
  },
  {
   "cell_type": "code",
   "execution_count": 2,
   "id": "281cbd08",
   "metadata": {},
   "outputs": [],
   "source": [
    "# MLM과 SBO를 이용한다.\n",
    "# 무작위로 MASKING 처리를 하는 것이 아닌 SPAN 단위로 mask 처리를 한다."
   ]
  },
  {
   "cell_type": "markdown",
   "id": "cd249f62",
   "metadata": {},
   "source": [
    "- SBO: mask값을 예측할 때, MLM과는 다르게 span 토큰 (mask된 부분의 양쪽 끝 부분)과 마스크된 토큰의 위치 임베딩을 함께 이용해서 예측한다."
   ]
  },
  {
   "cell_type": "code",
   "execution_count": 4,
   "id": "2efe5baf",
   "metadata": {},
   "outputs": [],
   "source": [
    "from transformers import pipeline"
   ]
  },
  {
   "cell_type": "code",
   "execution_count": 5,
   "id": "dae9df30",
   "metadata": {},
   "outputs": [
    {
     "data": {
      "application/vnd.jupyter.widget-view+json": {
       "model_id": "b67917388e6e4142aa68ff42e12984c7",
       "version_major": 2,
       "version_minor": 0
      },
      "text/plain": [
       "Downloading:   0%|          | 0.00/577 [00:00<?, ?B/s]"
      ]
     },
     "metadata": {},
     "output_type": "display_data"
    },
    {
     "data": {
      "application/vnd.jupyter.widget-view+json": {
       "model_id": "5dd05fdfb50d469384a48c3d14ab6964",
       "version_major": 2,
       "version_minor": 0
      },
      "text/plain": [
       "Downloading:   0%|          | 0.00/636M [00:00<?, ?B/s]"
      ]
     },
     "metadata": {},
     "output_type": "display_data"
    },
    {
     "data": {
      "application/vnd.jupyter.widget-view+json": {
       "model_id": "023cbd65360247ca896cd645d85b4906",
       "version_major": 2,
       "version_minor": 0
      },
      "text/plain": [
       "Downloading:   0%|          | 0.00/414 [00:00<?, ?B/s]"
      ]
     },
     "metadata": {},
     "output_type": "display_data"
    },
    {
     "data": {
      "application/vnd.jupyter.widget-view+json": {
       "model_id": "ea0cce0d6b1643ffb94b2e67a7d7e72a",
       "version_major": 2,
       "version_minor": 0
      },
      "text/plain": [
       "Downloading:   0%|          | 0.00/208k [00:00<?, ?B/s]"
      ]
     },
     "metadata": {},
     "output_type": "display_data"
    }
   ],
   "source": [
    "qa_pipeline = pipeline(\"question-answering\",\n",
    "                      model=\"mrm8488/spanbert-large-finetuned-squadv2\",\n",
    "                      tokenizer=\"SpanBERT/spanbert-large-cased\")"
   ]
  },
  {
   "cell_type": "code",
   "execution_count": 6,
   "id": "5db1b79a",
   "metadata": {},
   "outputs": [],
   "source": [
    "results = qa_pipeline({\n",
    "    \"question\":\"what is machine learning?\",\n",
    "    \"context\":\"Machine learning is a subset of artificial intelligence. It is widely for creating a variety of applications such as email filtering and omputer vision\"\n",
    "})"
   ]
  },
  {
   "cell_type": "code",
   "execution_count": 7,
   "id": "244ff2c4",
   "metadata": {},
   "outputs": [
    {
     "data": {
      "text/plain": [
       "'a subset of artificial intelligence'"
      ]
     },
     "execution_count": 7,
     "metadata": {},
     "output_type": "execute_result"
    }
   ],
   "source": [
    "results['answer']"
   ]
  },
  {
   "cell_type": "code",
   "execution_count": null,
   "id": "570a19e9",
   "metadata": {},
   "outputs": [],
   "source": []
  }
 ],
 "metadata": {
  "kernelspec": {
   "display_name": "tensorflow2_py38",
   "language": "python",
   "name": "tensorflow2_py38"
  },
  "language_info": {
   "codemirror_mode": {
    "name": "ipython",
    "version": 3
   },
   "file_extension": ".py",
   "mimetype": "text/x-python",
   "name": "python",
   "nbconvert_exporter": "python",
   "pygments_lexer": "ipython3",
   "version": "3.8.12"
  }
 },
 "nbformat": 4,
 "nbformat_minor": 5
}
