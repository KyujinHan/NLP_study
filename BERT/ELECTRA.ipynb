{
 "cells": [
  {
   "cell_type": "code",
   "execution_count": 1,
   "id": "e390f9fe",
   "metadata": {},
   "outputs": [],
   "source": [
    "# ELECTRA는 MLM대신 replaced token detection (교체한 토큰 탐지)라는 테스크를 이용해서 학습한다."
   ]
  },
  {
   "cell_type": "markdown",
   "id": "b90cf956",
   "metadata": {},
   "source": [
    "- Replaced Token Detection  \n",
    "MLM task는 [MLM] 토큰으로 마스킹하는 반면에, 이 테스크는 토큰을 다른 토큰(실제)으로 변경한 후 그 토큰이 replaced or original를 판별한다.  \n",
    "\n",
    "- MLM task의 문제는 실제 문장에서는 [MLM] task가 없다는 점이다.\n",
    "  \n",
    "- NSP는 사용 안함."
   ]
  },
  {
   "cell_type": "markdown",
   "id": "ef682991",
   "metadata": {},
   "source": [
    "### 학습 방법\n",
    "1. MLM 처럼 [mask] 작업을 먼저 한다.\n",
    "2. 생성자에 해당 문장을 넣어서 단어를 생성한다. (인코더와 분류기를 걸쳐서 [mask]에 해당하는 단어를 예측)\n",
    "3. 판별자를 통해 해당 단어가 진짜인지 replace인지 판단한다.\n",
    "4. 여기서 판별자가 ELECTRA 모델이다.\n",
    "5. 학습이 다 된 후에는 생성자를 떼어내서 ELECTRA만 사용한다."
   ]
  },
  {
   "cell_type": "code",
   "execution_count": 2,
   "id": "6827936f",
   "metadata": {},
   "outputs": [],
   "source": [
    "# MLM은 [mask]에 들어가는 단어만 예측하는 반면, \n",
    "# Replaced token Detection은 해당 단어가 진짜인지 아닌지의 여부를 판단하기 위해 모든 토큰을 대상으로 학습이 이루어진다."
   ]
  },
  {
   "cell_type": "markdown",
   "id": "ae59391a",
   "metadata": {},
   "source": [
    "from transformers import ElectraTokenizer, ElectraModel  \n",
    "   \n",
    "model = ElectraModel.from_pretrained(\"google/electra-small-discriminator\") # 판별자  \n",
    "model = ElectraModel.from_pretrained(\"google/electra-small-generator\") # 생성자  "
   ]
  },
  {
   "cell_type": "code",
   "execution_count": null,
   "id": "e6a29ca9",
   "metadata": {},
   "outputs": [],
   "source": []
  }
 ],
 "metadata": {
  "kernelspec": {
   "display_name": "tensorflow2_py38",
   "language": "python",
   "name": "tensorflow2_py38"
  },
  "language_info": {
   "codemirror_mode": {
    "name": "ipython",
    "version": 3
   },
   "file_extension": ".py",
   "mimetype": "text/x-python",
   "name": "python",
   "nbconvert_exporter": "python",
   "pygments_lexer": "ipython3",
   "version": "3.8.12"
  }
 },
 "nbformat": 4,
 "nbformat_minor": 5
}
