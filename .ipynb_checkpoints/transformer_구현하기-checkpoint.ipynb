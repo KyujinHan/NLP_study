{
 "cells": [
  {
   "cell_type": "code",
   "execution_count": null,
   "id": "1a3126e3",
   "metadata": {},
   "outputs": [],
   "source": [
    "# https://hongl.tistory.com/194\n",
    "# https://github.com/hyunwoongko/transformer/blob/master/util/data_loader.py"
   ]
  }
 ],
 "metadata": {
  "kernelspec": {
   "display_name": "tensorflow2_py38",
   "language": "python",
   "name": "tensorflow2_py38"
  },
  "language_info": {
   "codemirror_mode": {
    "name": "ipython",
    "version": 3
   },
   "file_extension": ".py",
   "mimetype": "text/x-python",
   "name": "python",
   "nbconvert_exporter": "python",
   "pygments_lexer": "ipython3",
   "version": "3.8.12"
  }
 },
 "nbformat": 4,
 "nbformat_minor": 5
}
